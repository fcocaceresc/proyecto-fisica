{
 "cells": [
  {
   "cell_type": "code",
   "execution_count": 46,
   "metadata": {},
   "outputs": [],
   "source": [
    "import numpy as np\n",
    "import matplotlib.pyplot as plt\n",
    "import matplotlib.animation as animation\n",
    "import pandas as pd\n",
    "import json"
   ]
  },
  {
   "cell_type": "code",
   "execution_count": 47,
   "metadata": {},
   "outputs": [],
   "source": [
    "with open('parametros_lanzamiento.json', 'r') as file:\n",
    "    parametros = json.load(file)"
   ]
  },
  {
   "cell_type": "code",
   "execution_count": 48,
   "metadata": {},
   "outputs": [],
   "source": [
    "def x(t, v, theta):\n",
    "    return np.cos(np.deg2rad(theta)) * v * t\n",
    "\n",
    "def y(t, h, v, theta):\n",
    "    return h + np.sin(np.deg2rad(theta)) * v * t - 0.5 * 9.8 * t**2\n",
    "\n",
    "def tiempo_de_vuelo(v, h, theta):\n",
    "    return (v * np.sin(np.deg2rad(theta)) + np.sqrt((v * np.sin(np.deg2rad(theta)))**2 + 2 * 9.8 * h)) / 9.8\n",
    "\n",
    "def alcance(v, h, theta):\n",
    "    return v * np.cos(np.deg2rad(theta)) * tiempo_de_vuelo(v, h, theta)\n",
    "\n",
    "def altura_max(v, h, theta):\n",
    "    return h + (v**2) * (np.sin(np.deg2rad(theta))**2) / (2 * 9.8)"
   ]
  },
  {
   "cell_type": "code",
   "execution_count": 49,
   "metadata": {},
   "outputs": [
    {
     "name": "stderr",
     "output_type": "stream",
     "text": [
      "MovieWriter ffmpeg unavailable; using Pillow instead.\n"
     ]
    },
    {
     "data": {
      "image/png": "[encoded data removed]",
      "text/plain": [
       "<Figure size 640x480 with 1 Axes>"
      ]
     },
     "metadata": {},
     "output_type": "display_data"
    }
   ],
   "source": [
    "theta = parametros['angulo']\n",
    "v_inicial = parametros['velocidad']\n",
    "h_inicial = parametros['altura']\n",
    "\n",
    "t_vuelo = tiempo_de_vuelo(v_inicial, h_inicial, theta)\n",
    "t = np.linspace(0, t_vuelo, 100)\n",
    "\n",
    "x_vals = x(t, v_inicial, theta)\n",
    "y_vals = y(t, h_inicial, v_inicial, theta)\n",
    "\n",
    "fig, ax = plt.subplots()\n",
    "line, = ax.plot(x_vals, y_vals)\n",
    "\n",
    "ax.set_xlim(0, np.max(x_vals))\n",
    "ax.set_ylim(0, np.max(y_vals) + 1)\n",
    "\n",
    "\n",
    "ax.set_xlabel('Posición en x')\n",
    "ax.set_ylabel('Posición en y')\n",
    "\n",
    "ax.set_title('Lanzamiento de Proyectil')\n",
    "\n",
    "ax.grid(True)\n",
    "\n",
    "def update(num, x_vals, y_vals):\n",
    "    line.set_data(x_vals[:num], y_vals[:num])\n",
    "    return line,\n",
    "\n",
    "ani = animation.FuncAnimation(fig, update, frames=len(t), fargs=(x_vals, y_vals), interval=100, blit=True)\n",
    "ani.save('proyectil.gif', writer='ffmpeg', fps=30)\n",
    "plt.show()"
   ]
  },
  {
   "cell_type": "code",
   "execution_count": 50,
   "metadata": {},
   "outputs": [],
   "source": [
    "posicion_tiempo = pd.DataFrame({'Tiempo': np.round(t, 2), 'Posición en x': np.round(x_vals, 2), 'Posición en y': np.round(y_vals, 2)})\n",
    "posicion_tiempo.to_csv('posicion_tiempo.csv', index=False)\n",
    "\n",
    "resultados_lanzamiento = pd.DataFrame({'Tiempo de vuelo': [np.round(t_vuelo, 2)], 'Alcance': [np.round(alcance(v_inicial, h_inicial, theta), 2)], 'Altura máxima': [np.round(altura_max(v_inicial, h_inicial, theta), 2)]})\n",
    "resultados_lanzamiento.to_csv('resultados_lanzamiento.csv', index=False)"
   ]
  },
  {
   "cell_type": "code",
   "execution_count": 59,
   "metadata": {},
   "outputs": [],
   "source": [
    "calculos_latex = r\"\"\"\n",
    "\\documentclass{article}\n",
    "\\usepackage[utf8]{inputenc}\n",
    "\\usepackage{amsmath}\n",
    "\\usepackage{geometry}\n",
    "\\usepackage{setspace}\n",
    "\n",
    "\\geometry{\n",
    "    a4paper,\n",
    "    left=2.54cm,\n",
    "    right=2.54cm,\n",
    "    top=2.54cm,\n",
    "    bottom=2.54cm\n",
    "}\n",
    "\n",
    "\\doublespacing\n",
    "\\begin{document}\n",
    "\\section{Cálculos}\n",
    "\\subsection{Tiempo de vuelo}\n",
    "\\[\n",
    "T = \\frac{v \\sin(\\theta) + \\sqrt{(v \\sin(\\theta))^2 + 2gh}}{g}\n",
    "\\]\n",
    "\\[\n",
    "T = \\frac{\"\"\" + str(v_inicial) + r\"\"\" \\cdot \\sin(\"\"\" + str(theta) + r\"\"\") + \\sqrt{(\"\"\" + str(v_inicial) + r\"\"\" \\cdot \\sin(\"\"\" + str(theta) + r\"\"\"))^2 + 2 \\cdot 9.8 \\cdot \"\"\" + str(h_inicial) + r\"\"\"}}{9.8}\n",
    "\\]\n",
    "\\[\n",
    "T = \"\"\" + str(np.round(t_vuelo, 2)) + r\"\"\"\n",
    "\\]\n",
    "\\subsection{Alcance}\n",
    "\\[\n",
    "R = v \\cos(\\theta) \\cdot t\n",
    "\\]\n",
    "\\[\n",
    "R = \"\"\" + str(v_inicial) + r\"\"\" \\cdot \\cos(\"\"\" + str(theta) + r\"\"\") \\cdot \"\"\" + str(np.round(t_vuelo, 2)) + r\"\"\"\n",
    "\\]\n",
    "\\[\n",
    "R = \"\"\" + str(np.round(alcance(v_inicial, h_inicial, theta), 2)) + r\"\"\"\n",
    "\\]\n",
    "\\subsection{Altura máxima}\n",
    "\\[\n",
    "h_{\\text{max}} = h + \\frac{v^2 \\sin^2(\\theta)}{2g}\n",
    "\\]\n",
    "\\[\n",
    "h_{\\text{max}} = \"\"\" + str(h_inicial) + r\"\"\" + \\frac{\"\"\" + str(v_inicial) + r\"\"\"^2 \\cdot \\sin^2(\"\"\" + str(theta) + r\"\"\")}{2 \\cdot 9.8}\n",
    "\\]\n",
    "\\[\n",
    "h_{\\text{max}} = \"\"\" + str(np.round(altura_max(v_inicial, h_inicial, theta), 2)) + r\"\"\"\n",
    "\\]\n",
    "\\end{document}\n",
    "\"\"\"\n",
    "\n",
    "\n",
    "with open('calculos_lanzamiento/calculos_lanzamiento.tex', 'w', encoding='utf-8') as file:\n",
    "    file.write(calculos_latex)\n"
   ]
  }
 ],
 "metadata": {
  "kernelspec": {
   "display_name": "Python 3",
   "language": "python",
   "name": "python3"
  },
  "language_info": {
   "codemirror_mode": {
    "name": "ipython",
    "version": 3
   },
   "file_extension": ".py",
   "mimetype": "text/x-python",
   "name": "python",
   "nbconvert_exporter": "python",
   "pygments_lexer": "ipython3",
   "version": "3.12.6"
  }
 },
 "nbformat": 4,
 "nbformat_minor": 2
}
